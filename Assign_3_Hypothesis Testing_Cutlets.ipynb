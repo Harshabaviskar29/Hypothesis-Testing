{
 "cells": [
  {
   "cell_type": "markdown",
   "id": "3b26f902",
   "metadata": {},
   "source": [
    "# Problem Statement :"
   ]
  },
  {
   "cell_type": "markdown",
   "id": "b82525c4",
   "metadata": {},
   "source": [
    "A F&B manager wants to determine whether there is any significant difference in the diameter of the cutlet between two units. A randomly selected sample of cutlets was collected from both units and measured? Analyze the data and draw inferences at 5% significance level. Please state the assumptions and tests that you carried out to check validity of the assumptions."
   ]
  },
  {
   "cell_type": "markdown",
   "id": "2e64434c",
   "metadata": {},
   "source": [
    "### 1 - Business Problem\n",
    "\n",
    "Is there significant difference in the diameter of the cutlet between two units ?"
   ]
  },
  {
   "cell_type": "markdown",
   "id": "589e5774",
   "metadata": {},
   "source": [
    "### 2 - Data description\n",
    "α = 0.05 (95% Confidence)\n",
    "\n",
    "Y = Continious\n",
    "X = Discrete\n",
    "\n",
    "Is Y1 and Y2 normal?\n",
    "\n",
    "H0 = Y1 and Y2 are normal\n",
    "H1 = Y1 and Y2 are not normal"
   ]
  },
  {
   "cell_type": "code",
   "execution_count": 20,
   "id": "52364b11",
   "metadata": {},
   "outputs": [],
   "source": [
    "import pandas as pd\n",
    "import numpy as np\n",
    "import matplotlib.pyplot as plt\n",
    "from scipy import stats\n",
    "import seaborn as sns\n",
    "import warnings\n",
    "warnings.filterwarnings(\"ignore\")"
   ]
  },
  {
   "cell_type": "markdown",
   "id": "f1e113d4",
   "metadata": {},
   "source": [
    "### 3 - Test Data IS Normality Distributed Or Not"
   ]
  },
  {
   "cell_type": "code",
   "execution_count": 2,
   "id": "6a658843",
   "metadata": {},
   "outputs": [],
   "source": [
    "df = pd.read_csv(\"D:/Harsha/Data sciences/Assignments/Assignment_3_Hypothesis Testing/Cutlets.csv\")"
   ]
  },
  {
   "cell_type": "code",
   "execution_count": 3,
   "id": "0c399cef",
   "metadata": {},
   "outputs": [
    {
     "data": {
      "text/html": [
       "<div>\n",
       "<style scoped>\n",
       "    .dataframe tbody tr th:only-of-type {\n",
       "        vertical-align: middle;\n",
       "    }\n",
       "\n",
       "    .dataframe tbody tr th {\n",
       "        vertical-align: top;\n",
       "    }\n",
       "\n",
       "    .dataframe thead th {\n",
       "        text-align: right;\n",
       "    }\n",
       "</style>\n",
       "<table border=\"1\" class=\"dataframe\">\n",
       "  <thead>\n",
       "    <tr style=\"text-align: right;\">\n",
       "      <th></th>\n",
       "      <th>Unit A</th>\n",
       "      <th>Unit B</th>\n",
       "    </tr>\n",
       "  </thead>\n",
       "  <tbody>\n",
       "    <tr>\n",
       "      <th>0</th>\n",
       "      <td>6.8090</td>\n",
       "      <td>6.7703</td>\n",
       "    </tr>\n",
       "    <tr>\n",
       "      <th>1</th>\n",
       "      <td>6.4376</td>\n",
       "      <td>7.5093</td>\n",
       "    </tr>\n",
       "    <tr>\n",
       "      <th>2</th>\n",
       "      <td>6.9157</td>\n",
       "      <td>6.7300</td>\n",
       "    </tr>\n",
       "    <tr>\n",
       "      <th>3</th>\n",
       "      <td>7.3012</td>\n",
       "      <td>6.7878</td>\n",
       "    </tr>\n",
       "    <tr>\n",
       "      <th>4</th>\n",
       "      <td>7.4488</td>\n",
       "      <td>7.1522</td>\n",
       "    </tr>\n",
       "  </tbody>\n",
       "</table>\n",
       "</div>"
      ],
      "text/plain": [
       "   Unit A  Unit B\n",
       "0  6.8090  6.7703\n",
       "1  6.4376  7.5093\n",
       "2  6.9157  6.7300\n",
       "3  7.3012  6.7878\n",
       "4  7.4488  7.1522"
      ]
     },
     "execution_count": 3,
     "metadata": {},
     "output_type": "execute_result"
    }
   ],
   "source": [
    "df.head()"
   ]
  },
  {
   "cell_type": "code",
   "execution_count": 4,
   "id": "c90aa959",
   "metadata": {},
   "outputs": [
    {
     "data": {
      "text/plain": [
       "ShapiroResult(statistic=0.9649458527565002, pvalue=0.3199819028377533)"
      ]
     },
     "execution_count": 4,
     "metadata": {},
     "output_type": "execute_result"
    }
   ],
   "source": [
    "stats.shapiro(df[\"Unit A\"])"
   ]
  },
  {
   "cell_type": "code",
   "execution_count": 6,
   "id": "aa29aa88",
   "metadata": {},
   "outputs": [
    {
     "data": {
      "text/plain": [
       "ShapiroResult(statistic=0.9727300405502319, pvalue=0.5224985480308533)"
      ]
     },
     "execution_count": 6,
     "metadata": {},
     "output_type": "execute_result"
    }
   ],
   "source": [
    "stats.shapiro(df[\"Unit B\"])"
   ]
  },
  {
   "cell_type": "markdown",
   "id": "e18bc266",
   "metadata": {},
   "source": [
    "#### If the p-value > α, then accept null hypothesis and data distribution is normal."
   ]
  },
  {
   "cell_type": "markdown",
   "id": "5e9c0ff0",
   "metadata": {},
   "source": [
    "### HO is accepted. IT means both Y1 and Y2 are normally distribute."
   ]
  },
  {
   "cell_type": "code",
   "execution_count": 15,
   "id": "986f2784",
   "metadata": {},
   "outputs": [
    {
     "data": {
      "text/plain": [
       "(array([1., 1., 0., 2., 9., 5., 3., 7., 2., 5.]),\n",
       " array([6.038  , 6.18879, 6.33958, 6.49037, 6.64116, 6.79195, 6.94274,\n",
       "        7.09353, 7.24432, 7.39511, 7.5459 ]),\n",
       " <BarContainer object of 10 artists>)"
      ]
     },
     "execution_count": 15,
     "metadata": {},
     "output_type": "execute_result"
    },
    {
     "data": {
      "image/png": "[encoded data removed]",
      "text/plain": [
       "<Figure size 1080x360 with 2 Axes>"
      ]
     },
     "metadata": {
      "needs_background": "light"
     },
     "output_type": "display_data"
    }
   ],
   "source": [
    "fig, axes = plt.subplots(nrows=1, ncols=2,figsize=(15,5))\n",
    "fig.suptitle('Check Data Distribution', size=20)\n",
    "axes[0].hist(df['Unit A'])\n",
    "axes[1].hist(df['Unit B'])"
   ]
  },
  {
   "cell_type": "code",
   "execution_count": 21,
   "id": "ba060bff",
   "metadata": {},
   "outputs": [
    {
     "data": {
      "text/plain": [
       "<matplotlib.legend.Legend at 0x16792c4cbe0>"
      ]
     },
     "execution_count": 21,
     "metadata": {},
     "output_type": "execute_result"
    },
    {
     "data": {
      "image/png": "[encoded data removed]",
      "text/plain": [
       "<Figure size 432x288 with 1 Axes>"
      ]
     },
     "metadata": {
      "needs_background": "light"
     },
     "output_type": "display_data"
    }
   ],
   "source": [
    "sns.distplot(df['Unit A'])\n",
    "sns.distplot(df['Unit B'])\n",
    "plt.legend(['Unit A','Unit B'])"
   ]
  },
  {
   "cell_type": "markdown",
   "id": "30123dc3",
   "metadata": {},
   "source": [
    "### 4 - External Condition"
   ]
  },
  {
   "cell_type": "markdown",
   "id": "b85da57d",
   "metadata": {},
   "source": [
    "### External condition are same.\n",
    "Thus we can perform Paired T Test"
   ]
  },
  {
   "cell_type": "markdown",
   "id": "5e10c4f0",
   "metadata": {},
   "source": [
    "### 5 - Model\n",
    "\n",
    "H0 == Mean for Y1 and Y2 are equal (There is no significance difference between diameter of the Culets)\n",
    "\n",
    "H1 == Mean for Y1 and Y2 are not equal (There is a significance difference between diameter of the Culets)"
   ]
  },
  {
   "cell_type": "code",
   "execution_count": 16,
   "id": "a32458c2",
   "metadata": {},
   "outputs": [
    {
     "data": {
      "text/plain": [
       "Ttest_relResult(statistic=0.7536787225614314, pvalue=0.4562300768038412)"
      ]
     },
     "execution_count": 16,
     "metadata": {},
     "output_type": "execute_result"
    }
   ],
   "source": [
    "stats.ttest_rel(df[\"Unit A\"], df[\"Unit B\"])"
   ]
  },
  {
   "cell_type": "markdown",
   "id": "da7943a2",
   "metadata": {},
   "source": [
    "#### P value of the Paired T Test is == 0.45 > α"
   ]
  },
  {
   "cell_type": "markdown",
   "id": "54506b21",
   "metadata": {},
   "source": [
    "# Thus the H0 (Null Hypothesis) is accepted."
   ]
  },
  {
   "cell_type": "markdown",
   "id": "befaca0e",
   "metadata": {},
   "source": [
    "### There is no any significant difference in the diameter of both A & B cutlet units."
   ]
  }
 ],
 "metadata": {
  "kernelspec": {
   "display_name": "Python 3 (ipykernel)",
   "language": "python",
   "name": "python3"
  },
  "language_info": {
   "codemirror_mode": {
    "name": "ipython",
    "version": 3
   },
   "file_extension": ".py",
   "mimetype": "text/x-python",
   "name": "python",
   "nbconvert_exporter": "python",
   "pygments_lexer": "ipython3",
   "version": "3.9.12"
  }
 },
 "nbformat": 4,
 "nbformat_minor": 5
}
